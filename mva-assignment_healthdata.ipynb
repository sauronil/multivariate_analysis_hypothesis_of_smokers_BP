{
 "cells": [
  {
   "cell_type": "markdown",
   "metadata": {},
   "source": [
    "# mva-assignment_healthdata\n",
    "\n",
    "Use the \"Run\" button to execute the code."
   ]
  },
  {
   "cell_type": "code",
   "execution_count": 1,
   "metadata": {},
   "outputs": [
    {
     "name": "stdout",
     "output_type": "stream",
     "text": [
      "Requirement already satisfied: pandas in /opt/conda/lib/python3.9/site-packages (1.3.4)\n",
      "Requirement already satisfied: openpyxl in /opt/conda/lib/python3.9/site-packages (3.1.1)\n",
      "Requirement already satisfied: python-dateutil>=2.7.3 in /opt/conda/lib/python3.9/site-packages (from pandas) (2.8.2)\n",
      "Requirement already satisfied: pytz>=2017.3 in /opt/conda/lib/python3.9/site-packages (from pandas) (2021.3)\n",
      "Requirement already satisfied: numpy>=1.17.3 in /opt/conda/lib/python3.9/site-packages (from pandas) (1.20.3)\n",
      "Requirement already satisfied: et-xmlfile in /opt/conda/lib/python3.9/site-packages (from openpyxl) (1.1.0)\n",
      "Requirement already satisfied: six>=1.5 in /opt/conda/lib/python3.9/site-packages (from python-dateutil>=2.7.3->pandas) (1.16.0)\n"
     ]
    }
   ],
   "source": [
    "import pandas as pd\n",
    "import numpy as np\n",
    "import matplotlib.pyplot as plt\n",
    "import seaborn as sns\n",
    "from scipy import stats\n",
    "!pip install pandas openpyxl\n",
    "\n",
    "!pip install jovian --upgrade -q\n",
    "import jovian"
   ]
  },
  {
   "cell_type": "code",
   "execution_count": 2,
   "metadata": {},
   "outputs": [
    {
     "data": {
      "text/plain": [
       "['wcgs MVA original data.xlsx']"
      ]
     },
     "execution_count": 2,
     "metadata": {},
     "output_type": "execute_result"
    }
   ],
   "source": [
    "data_dir = './work'\n",
    "import os\n",
    "os.listdir(data_dir)"
   ]
  },
  {
   "cell_type": "code",
   "execution_count": 3,
   "metadata": {},
   "outputs": [
    {
     "data": {
      "text/html": [
       "<div>\n",
       "<style scoped>\n",
       "    .dataframe tbody tr th:only-of-type {\n",
       "        vertical-align: middle;\n",
       "    }\n",
       "\n",
       "    .dataframe tbody tr th {\n",
       "        vertical-align: top;\n",
       "    }\n",
       "\n",
       "    .dataframe thead th {\n",
       "        text-align: right;\n",
       "    }\n",
       "</style>\n",
       "<table border=\"1\" class=\"dataframe\">\n",
       "  <thead>\n",
       "    <tr style=\"text-align: right;\">\n",
       "      <th></th>\n",
       "      <th>age</th>\n",
       "      <th>bmi</th>\n",
       "      <th>chol</th>\n",
       "      <th>dbp</th>\n",
       "      <th>height</th>\n",
       "      <th>ncigs</th>\n",
       "      <th>sbp</th>\n",
       "      <th>smoke</th>\n",
       "      <th>weight</th>\n",
       "    </tr>\n",
       "  </thead>\n",
       "  <tbody>\n",
       "    <tr>\n",
       "      <th>0</th>\n",
       "      <td>50.0</td>\n",
       "      <td>31.321007</td>\n",
       "      <td>249.0</td>\n",
       "      <td>90.0</td>\n",
       "      <td>67.0</td>\n",
       "      <td>25.0</td>\n",
       "      <td>132.0</td>\n",
       "      <td>Yes</td>\n",
       "      <td>200.0</td>\n",
       "    </tr>\n",
       "    <tr>\n",
       "      <th>1</th>\n",
       "      <td>51.0</td>\n",
       "      <td>25.328579</td>\n",
       "      <td>194.0</td>\n",
       "      <td>74.0</td>\n",
       "      <td>73.0</td>\n",
       "      <td>25.0</td>\n",
       "      <td>120.0</td>\n",
       "      <td>Yes</td>\n",
       "      <td>192.0</td>\n",
       "    </tr>\n",
       "    <tr>\n",
       "      <th>2</th>\n",
       "      <td>59.0</td>\n",
       "      <td>28.693878</td>\n",
       "      <td>258.0</td>\n",
       "      <td>94.0</td>\n",
       "      <td>70.0</td>\n",
       "      <td>0.0</td>\n",
       "      <td>158.0</td>\n",
       "      <td>No</td>\n",
       "      <td>200.0</td>\n",
       "    </tr>\n",
       "    <tr>\n",
       "      <th>3</th>\n",
       "      <td>51.0</td>\n",
       "      <td>22.148708</td>\n",
       "      <td>173.0</td>\n",
       "      <td>80.0</td>\n",
       "      <td>69.0</td>\n",
       "      <td>0.0</td>\n",
       "      <td>126.0</td>\n",
       "      <td>No</td>\n",
       "      <td>150.0</td>\n",
       "    </tr>\n",
       "    <tr>\n",
       "      <th>4</th>\n",
       "      <td>44.0</td>\n",
       "      <td>22.313034</td>\n",
       "      <td>214.0</td>\n",
       "      <td>80.0</td>\n",
       "      <td>71.0</td>\n",
       "      <td>0.0</td>\n",
       "      <td>126.0</td>\n",
       "      <td>No</td>\n",
       "      <td>160.0</td>\n",
       "    </tr>\n",
       "  </tbody>\n",
       "</table>\n",
       "</div>"
      ],
      "text/plain": [
       "    age        bmi   chol   dbp  height  ncigs    sbp smoke  weight\n",
       "0  50.0  31.321007  249.0  90.0    67.0   25.0  132.0   Yes   200.0\n",
       "1  51.0  25.328579  194.0  74.0    73.0   25.0  120.0   Yes   192.0\n",
       "2  59.0  28.693878  258.0  94.0    70.0    0.0  158.0    No   200.0\n",
       "3  51.0  22.148708  173.0  80.0    69.0    0.0  126.0    No   150.0\n",
       "4  44.0  22.313034  214.0  80.0    71.0    0.0  126.0    No   160.0"
      ]
     },
     "execution_count": 3,
     "metadata": {},
     "output_type": "execute_result"
    }
   ],
   "source": [
    "wcgs = pd.read_excel(data_dir + '/wcgs MVA original data.xlsx')\n",
    "wcgs.head()"
   ]
  },
  {
   "cell_type": "code",
   "execution_count": 4,
   "metadata": {},
   "outputs": [
    {
     "data": {
      "text/plain": [
       "(3154, 9)"
      ]
     },
     "execution_count": 4,
     "metadata": {},
     "output_type": "execute_result"
    }
   ],
   "source": [
    "# To see the dimension of the dataset wcgs\n",
    "wcgs.shape"
   ]
  },
  {
   "cell_type": "code",
   "execution_count": 5,
   "metadata": {},
   "outputs": [
    {
     "data": {
      "text/plain": [
       "age       float64\n",
       "bmi       float64\n",
       "chol      float64\n",
       "dbp       float64\n",
       "height    float64\n",
       "ncigs     float64\n",
       "sbp       float64\n",
       "smoke      object\n",
       "weight    float64\n",
       "dtype: object"
      ]
     },
     "execution_count": 5,
     "metadata": {},
     "output_type": "execute_result"
    }
   ],
   "source": [
    "wcgs.dtypes"
   ]
  },
  {
   "cell_type": "code",
   "execution_count": 6,
   "metadata": {},
   "outputs": [
    {
     "data": {
      "text/plain": [
       "Index(['age', 'bmi', 'chol', 'dbp', 'height', 'ncigs', 'sbp', 'smoke',\n",
       "       'weight'],\n",
       "      dtype='object')"
      ]
     },
     "execution_count": 6,
     "metadata": {},
     "output_type": "execute_result"
    }
   ],
   "source": [
    "wcgs.columns"
   ]
  },
  {
   "cell_type": "code",
   "execution_count": 7,
   "metadata": {},
   "outputs": [
    {
     "data": {
      "text/html": [
       "<div>\n",
       "<style scoped>\n",
       "    .dataframe tbody tr th:only-of-type {\n",
       "        vertical-align: middle;\n",
       "    }\n",
       "\n",
       "    .dataframe tbody tr th {\n",
       "        vertical-align: top;\n",
       "    }\n",
       "\n",
       "    .dataframe thead th {\n",
       "        text-align: right;\n",
       "    }\n",
       "</style>\n",
       "<table border=\"1\" class=\"dataframe\">\n",
       "  <thead>\n",
       "    <tr style=\"text-align: right;\">\n",
       "      <th></th>\n",
       "      <th>age</th>\n",
       "      <th>bmi</th>\n",
       "      <th>chol</th>\n",
       "      <th>dbp</th>\n",
       "      <th>height</th>\n",
       "      <th>ncigs</th>\n",
       "      <th>sbp</th>\n",
       "      <th>smoke</th>\n",
       "      <th>weight</th>\n",
       "    </tr>\n",
       "  </thead>\n",
       "  <tbody>\n",
       "    <tr>\n",
       "      <th>2452</th>\n",
       "      <td>56.0</td>\n",
       "      <td>19.942245</td>\n",
       "      <td>223.0</td>\n",
       "      <td>84.0</td>\n",
       "      <td>70.0</td>\n",
       "      <td>37.0</td>\n",
       "      <td>128.0</td>\n",
       "      <td>Yes</td>\n",
       "      <td>139.0</td>\n",
       "    </tr>\n",
       "    <tr>\n",
       "      <th>37</th>\n",
       "      <td>50.0</td>\n",
       "      <td>26.496727</td>\n",
       "      <td>192.0</td>\n",
       "      <td>80.0</td>\n",
       "      <td>71.0</td>\n",
       "      <td>0.0</td>\n",
       "      <td>130.0</td>\n",
       "      <td>No</td>\n",
       "      <td>190.0</td>\n",
       "    </tr>\n",
       "    <tr>\n",
       "      <th>1167</th>\n",
       "      <td>42.0</td>\n",
       "      <td>22.044767</td>\n",
       "      <td>244.0</td>\n",
       "      <td>80.0</td>\n",
       "      <td>68.0</td>\n",
       "      <td>16.0</td>\n",
       "      <td>110.0</td>\n",
       "      <td>Yes</td>\n",
       "      <td>145.0</td>\n",
       "    </tr>\n",
       "    <tr>\n",
       "      <th>1164</th>\n",
       "      <td>50.0</td>\n",
       "      <td>24.363579</td>\n",
       "      <td>279.0</td>\n",
       "      <td>78.0</td>\n",
       "      <td>69.0</td>\n",
       "      <td>15.0</td>\n",
       "      <td>114.0</td>\n",
       "      <td>Yes</td>\n",
       "      <td>165.0</td>\n",
       "    </tr>\n",
       "    <tr>\n",
       "      <th>1366</th>\n",
       "      <td>59.0</td>\n",
       "      <td>24.389795</td>\n",
       "      <td>231.0</td>\n",
       "      <td>102.0</td>\n",
       "      <td>70.0</td>\n",
       "      <td>0.0</td>\n",
       "      <td>168.0</td>\n",
       "      <td>No</td>\n",
       "      <td>170.0</td>\n",
       "    </tr>\n",
       "  </tbody>\n",
       "</table>\n",
       "</div>"
      ],
      "text/plain": [
       "       age        bmi   chol    dbp  height  ncigs    sbp smoke  weight\n",
       "2452  56.0  19.942245  223.0   84.0    70.0   37.0  128.0   Yes   139.0\n",
       "37    50.0  26.496727  192.0   80.0    71.0    0.0  130.0    No   190.0\n",
       "1167  42.0  22.044767  244.0   80.0    68.0   16.0  110.0   Yes   145.0\n",
       "1164  50.0  24.363579  279.0   78.0    69.0   15.0  114.0   Yes   165.0\n",
       "1366  59.0  24.389795  231.0  102.0    70.0    0.0  168.0    No   170.0"
      ]
     },
     "execution_count": 7,
     "metadata": {},
     "output_type": "execute_result"
    }
   ],
   "source": [
    "# To see a random sample of the data\n",
    "wcgs.sample(5)"
   ]
  },
  {
   "cell_type": "code",
   "execution_count": 8,
   "metadata": {},
   "outputs": [
    {
     "data": {
      "text/html": [
       "<div>\n",
       "<style scoped>\n",
       "    .dataframe tbody tr th:only-of-type {\n",
       "        vertical-align: middle;\n",
       "    }\n",
       "\n",
       "    .dataframe tbody tr th {\n",
       "        vertical-align: top;\n",
       "    }\n",
       "\n",
       "    .dataframe thead th {\n",
       "        text-align: right;\n",
       "    }\n",
       "</style>\n",
       "<table border=\"1\" class=\"dataframe\">\n",
       "  <thead>\n",
       "    <tr style=\"text-align: right;\">\n",
       "      <th></th>\n",
       "      <th>age</th>\n",
       "      <th>bmi</th>\n",
       "      <th>chol</th>\n",
       "      <th>dbp</th>\n",
       "      <th>height</th>\n",
       "      <th>ncigs</th>\n",
       "      <th>sbp</th>\n",
       "      <th>weight</th>\n",
       "    </tr>\n",
       "  </thead>\n",
       "  <tbody>\n",
       "    <tr>\n",
       "      <th>count</th>\n",
       "      <td>3154.000000</td>\n",
       "      <td>3154.000000</td>\n",
       "      <td>3142.000000</td>\n",
       "      <td>3154.000000</td>\n",
       "      <td>3154.000000</td>\n",
       "      <td>3154.000000</td>\n",
       "      <td>3154.000000</td>\n",
       "      <td>3154.000000</td>\n",
       "    </tr>\n",
       "    <tr>\n",
       "      <th>mean</th>\n",
       "      <td>46.278694</td>\n",
       "      <td>24.518375</td>\n",
       "      <td>226.372374</td>\n",
       "      <td>82.015536</td>\n",
       "      <td>69.777743</td>\n",
       "      <td>11.600507</td>\n",
       "      <td>128.632847</td>\n",
       "      <td>169.953710</td>\n",
       "    </tr>\n",
       "    <tr>\n",
       "      <th>std</th>\n",
       "      <td>5.524045</td>\n",
       "      <td>2.567496</td>\n",
       "      <td>43.420426</td>\n",
       "      <td>9.726880</td>\n",
       "      <td>2.528693</td>\n",
       "      <td>14.517579</td>\n",
       "      <td>15.117731</td>\n",
       "      <td>21.095762</td>\n",
       "    </tr>\n",
       "    <tr>\n",
       "      <th>min</th>\n",
       "      <td>39.000000</td>\n",
       "      <td>11.190612</td>\n",
       "      <td>103.000000</td>\n",
       "      <td>58.000000</td>\n",
       "      <td>60.000000</td>\n",
       "      <td>0.000000</td>\n",
       "      <td>98.000000</td>\n",
       "      <td>78.000000</td>\n",
       "    </tr>\n",
       "    <tr>\n",
       "      <th>25%</th>\n",
       "      <td>42.000000</td>\n",
       "      <td>22.955103</td>\n",
       "      <td>197.250000</td>\n",
       "      <td>76.000000</td>\n",
       "      <td>68.000000</td>\n",
       "      <td>0.000000</td>\n",
       "      <td>120.000000</td>\n",
       "      <td>155.000000</td>\n",
       "    </tr>\n",
       "    <tr>\n",
       "      <th>50%</th>\n",
       "      <td>45.000000</td>\n",
       "      <td>24.389795</td>\n",
       "      <td>223.000000</td>\n",
       "      <td>80.000000</td>\n",
       "      <td>70.000000</td>\n",
       "      <td>0.000000</td>\n",
       "      <td>126.000000</td>\n",
       "      <td>170.000000</td>\n",
       "    </tr>\n",
       "    <tr>\n",
       "      <th>75%</th>\n",
       "      <td>50.000000</td>\n",
       "      <td>25.840160</td>\n",
       "      <td>253.000000</td>\n",
       "      <td>86.000000</td>\n",
       "      <td>72.000000</td>\n",
       "      <td>20.000000</td>\n",
       "      <td>136.000000</td>\n",
       "      <td>182.000000</td>\n",
       "    </tr>\n",
       "    <tr>\n",
       "      <th>max</th>\n",
       "      <td>59.000000</td>\n",
       "      <td>38.947369</td>\n",
       "      <td>645.000000</td>\n",
       "      <td>150.000000</td>\n",
       "      <td>78.000000</td>\n",
       "      <td>99.000000</td>\n",
       "      <td>230.000000</td>\n",
       "      <td>320.000000</td>\n",
       "    </tr>\n",
       "  </tbody>\n",
       "</table>\n",
       "</div>"
      ],
      "text/plain": [
       "               age          bmi         chol          dbp       height  \\\n",
       "count  3154.000000  3154.000000  3142.000000  3154.000000  3154.000000   \n",
       "mean     46.278694    24.518375   226.372374    82.015536    69.777743   \n",
       "std       5.524045     2.567496    43.420426     9.726880     2.528693   \n",
       "min      39.000000    11.190612   103.000000    58.000000    60.000000   \n",
       "25%      42.000000    22.955103   197.250000    76.000000    68.000000   \n",
       "50%      45.000000    24.389795   223.000000    80.000000    70.000000   \n",
       "75%      50.000000    25.840160   253.000000    86.000000    72.000000   \n",
       "max      59.000000    38.947369   645.000000   150.000000    78.000000   \n",
       "\n",
       "             ncigs          sbp       weight  \n",
       "count  3154.000000  3154.000000  3154.000000  \n",
       "mean     11.600507   128.632847   169.953710  \n",
       "std      14.517579    15.117731    21.095762  \n",
       "min       0.000000    98.000000    78.000000  \n",
       "25%       0.000000   120.000000   155.000000  \n",
       "50%       0.000000   126.000000   170.000000  \n",
       "75%      20.000000   136.000000   182.000000  \n",
       "max      99.000000   230.000000   320.000000  "
      ]
     },
     "execution_count": 8,
     "metadata": {},
     "output_type": "execute_result"
    }
   ],
   "source": [
    "# To check the numerical measures of each column\n",
    "wcgs.describe()"
   ]
  },
  {
   "cell_type": "markdown",
   "metadata": {},
   "source": [
    "### Data cleaning"
   ]
  },
  {
   "cell_type": "code",
   "execution_count": 9,
   "metadata": {},
   "outputs": [
    {
     "name": "stdout",
     "output_type": "stream",
     "text": [
      "<class 'pandas.core.frame.DataFrame'>\n",
      "RangeIndex: 3154 entries, 0 to 3153\n",
      "Data columns (total 9 columns):\n",
      " #   Column  Non-Null Count  Dtype  \n",
      "---  ------  --------------  -----  \n",
      " 0   age     3154 non-null   float64\n",
      " 1   bmi     3154 non-null   float64\n",
      " 2   chol    3142 non-null   float64\n",
      " 3   dbp     3154 non-null   float64\n",
      " 4   height  3154 non-null   float64\n",
      " 5   ncigs   3154 non-null   float64\n",
      " 6   sbp     3154 non-null   float64\n",
      " 7   smoke   3154 non-null   object \n",
      " 8   weight  3154 non-null   float64\n",
      "dtypes: float64(8), object(1)\n",
      "memory usage: 221.9+ KB\n"
     ]
    }
   ],
   "source": [
    "# To see the inforamtion about each column\n",
    "wcgs.info()"
   ]
  },
  {
   "cell_type": "code",
   "execution_count": 10,
   "metadata": {},
   "outputs": [
    {
     "data": {
      "text/plain": [
       "age        0\n",
       "bmi        0\n",
       "chol      12\n",
       "dbp        0\n",
       "height     0\n",
       "ncigs      0\n",
       "sbp        0\n",
       "smoke      0\n",
       "weight     0\n",
       "dtype: int64"
      ]
     },
     "execution_count": 10,
     "metadata": {},
     "output_type": "execute_result"
    }
   ],
   "source": [
    "wcgs.isna().sum()"
   ]
  },
  {
   "cell_type": "code",
   "execution_count": 11,
   "metadata": {},
   "outputs": [
    {
     "data": {
      "text/plain": [
       "226.3723742838956"
      ]
     },
     "execution_count": 11,
     "metadata": {},
     "output_type": "execute_result"
    }
   ],
   "source": [
    "mean_chol = wcgs.chol.mean()\n",
    "mean_chol"
   ]
  },
  {
   "cell_type": "code",
   "execution_count": 12,
   "metadata": {},
   "outputs": [],
   "source": [
    "wcgs.fillna(value=wcgs['chol'].mean(), inplace=True)"
   ]
  },
  {
   "cell_type": "code",
   "execution_count": 13,
   "metadata": {},
   "outputs": [
    {
     "data": {
      "text/plain": [
       "age       0\n",
       "bmi       0\n",
       "chol      0\n",
       "dbp       0\n",
       "height    0\n",
       "ncigs     0\n",
       "sbp       0\n",
       "smoke     0\n",
       "weight    0\n",
       "dtype: int64"
      ]
     },
     "execution_count": 13,
     "metadata": {},
     "output_type": "execute_result"
    }
   ],
   "source": [
    "wcgs.isnull().sum()"
   ]
  },
  {
   "cell_type": "code",
   "execution_count": 14,
   "metadata": {},
   "outputs": [
    {
     "data": {
      "text/plain": [
       "0"
      ]
     },
     "execution_count": 14,
     "metadata": {},
     "output_type": "execute_result"
    }
   ],
   "source": [
    "# To check if there if any duplication in rows\n",
    "wcgs.duplicated().sum()"
   ]
  },
  {
   "cell_type": "code",
   "execution_count": 15,
   "metadata": {},
   "outputs": [
    {
     "data": {
      "text/html": [
       "<div>\n",
       "<style scoped>\n",
       "    .dataframe tbody tr th:only-of-type {\n",
       "        vertical-align: middle;\n",
       "    }\n",
       "\n",
       "    .dataframe tbody tr th {\n",
       "        vertical-align: top;\n",
       "    }\n",
       "\n",
       "    .dataframe thead th {\n",
       "        text-align: right;\n",
       "    }\n",
       "</style>\n",
       "<table border=\"1\" class=\"dataframe\">\n",
       "  <thead>\n",
       "    <tr style=\"text-align: right;\">\n",
       "      <th></th>\n",
       "      <th>age</th>\n",
       "      <th>bmi</th>\n",
       "      <th>chol</th>\n",
       "      <th>dbp</th>\n",
       "      <th>height</th>\n",
       "      <th>ncigs</th>\n",
       "      <th>sbp</th>\n",
       "      <th>weight</th>\n",
       "    </tr>\n",
       "  </thead>\n",
       "  <tbody>\n",
       "    <tr>\n",
       "      <th>age</th>\n",
       "      <td>1.000000</td>\n",
       "      <td>0.026630</td>\n",
       "      <td>0.088929</td>\n",
       "      <td>0.139198</td>\n",
       "      <td>-0.095376</td>\n",
       "      <td>-0.005034</td>\n",
       "      <td>0.165746</td>\n",
       "      <td>-0.034405</td>\n",
       "    </tr>\n",
       "    <tr>\n",
       "      <th>bmi</th>\n",
       "      <td>0.026630</td>\n",
       "      <td>1.000000</td>\n",
       "      <td>0.070382</td>\n",
       "      <td>0.342431</td>\n",
       "      <td>-0.065815</td>\n",
       "      <td>-0.107058</td>\n",
       "      <td>0.287789</td>\n",
       "      <td>0.806636</td>\n",
       "    </tr>\n",
       "    <tr>\n",
       "      <th>chol</th>\n",
       "      <td>0.088929</td>\n",
       "      <td>0.070382</td>\n",
       "      <td>1.000000</td>\n",
       "      <td>0.128152</td>\n",
       "      <td>-0.088508</td>\n",
       "      <td>0.095676</td>\n",
       "      <td>0.122298</td>\n",
       "      <td>0.008515</td>\n",
       "    </tr>\n",
       "    <tr>\n",
       "      <th>dbp</th>\n",
       "      <td>0.139198</td>\n",
       "      <td>0.342431</td>\n",
       "      <td>0.128152</td>\n",
       "      <td>1.000000</td>\n",
       "      <td>0.010276</td>\n",
       "      <td>-0.059342</td>\n",
       "      <td>0.772906</td>\n",
       "      <td>0.295920</td>\n",
       "    </tr>\n",
       "    <tr>\n",
       "      <th>height</th>\n",
       "      <td>-0.095376</td>\n",
       "      <td>-0.065815</td>\n",
       "      <td>-0.088508</td>\n",
       "      <td>0.010276</td>\n",
       "      <td>1.000000</td>\n",
       "      <td>0.014911</td>\n",
       "      <td>0.018374</td>\n",
       "      <td>0.532935</td>\n",
       "    </tr>\n",
       "    <tr>\n",
       "      <th>ncigs</th>\n",
       "      <td>-0.005034</td>\n",
       "      <td>-0.107058</td>\n",
       "      <td>0.095676</td>\n",
       "      <td>-0.059342</td>\n",
       "      <td>0.014911</td>\n",
       "      <td>1.000000</td>\n",
       "      <td>0.029978</td>\n",
       "      <td>-0.081748</td>\n",
       "    </tr>\n",
       "    <tr>\n",
       "      <th>sbp</th>\n",
       "      <td>0.165746</td>\n",
       "      <td>0.287789</td>\n",
       "      <td>0.122298</td>\n",
       "      <td>0.772906</td>\n",
       "      <td>0.018374</td>\n",
       "      <td>0.029978</td>\n",
       "      <td>1.000000</td>\n",
       "      <td>0.253250</td>\n",
       "    </tr>\n",
       "    <tr>\n",
       "      <th>weight</th>\n",
       "      <td>-0.034405</td>\n",
       "      <td>0.806636</td>\n",
       "      <td>0.008515</td>\n",
       "      <td>0.295920</td>\n",
       "      <td>0.532935</td>\n",
       "      <td>-0.081748</td>\n",
       "      <td>0.253250</td>\n",
       "      <td>1.000000</td>\n",
       "    </tr>\n",
       "  </tbody>\n",
       "</table>\n",
       "</div>"
      ],
      "text/plain": [
       "             age       bmi      chol       dbp    height     ncigs       sbp  \\\n",
       "age     1.000000  0.026630  0.088929  0.139198 -0.095376 -0.005034  0.165746   \n",
       "bmi     0.026630  1.000000  0.070382  0.342431 -0.065815 -0.107058  0.287789   \n",
       "chol    0.088929  0.070382  1.000000  0.128152 -0.088508  0.095676  0.122298   \n",
       "dbp     0.139198  0.342431  0.128152  1.000000  0.010276 -0.059342  0.772906   \n",
       "height -0.095376 -0.065815 -0.088508  0.010276  1.000000  0.014911  0.018374   \n",
       "ncigs  -0.005034 -0.107058  0.095676 -0.059342  0.014911  1.000000  0.029978   \n",
       "sbp     0.165746  0.287789  0.122298  0.772906  0.018374  0.029978  1.000000   \n",
       "weight -0.034405  0.806636  0.008515  0.295920  0.532935 -0.081748  0.253250   \n",
       "\n",
       "          weight  \n",
       "age    -0.034405  \n",
       "bmi     0.806636  \n",
       "chol    0.008515  \n",
       "dbp     0.295920  \n",
       "height  0.532935  \n",
       "ncigs  -0.081748  \n",
       "sbp     0.253250  \n",
       "weight  1.000000  "
      ]
     },
     "execution_count": 15,
     "metadata": {},
     "output_type": "execute_result"
    }
   ],
   "source": [
    "# To check the relevant columns\n",
    "wcgs.corr()"
   ]
  },
  {
   "cell_type": "code",
   "execution_count": 16,
   "metadata": {},
   "outputs": [
    {
     "data": {
      "image/png": "[encoded data removed]",
      "text/plain": [
       "<Figure size 1008x432 with 2 Axes>"
      ]
     },
     "metadata": {
      "needs_background": "light"
     },
     "output_type": "display_data"
    }
   ],
   "source": [
    "corr= wcgs.corr()\n",
    "plt.figure(figsize=[14,6])\n",
    "sns.heatmap(corr, xticklabels= corr.columns, yticklabels= corr.columns)\n",
    "plt.show()"
   ]
  },
  {
   "cell_type": "code",
   "execution_count": 17,
   "metadata": {},
   "outputs": [
    {
     "data": {
      "text/plain": [
       "age       0.165746\n",
       "bmi       0.287789\n",
       "chol      0.122298\n",
       "dbp       0.772906\n",
       "height    0.018374\n",
       "ncigs     0.029978\n",
       "sbp       1.000000\n",
       "weight    0.253250\n",
       "Name: sbp, dtype: float64"
      ]
     },
     "execution_count": 17,
     "metadata": {},
     "output_type": "execute_result"
    }
   ],
   "source": [
    "wcgs.corr()['sbp']"
   ]
  },
  {
   "cell_type": "markdown",
   "metadata": {},
   "source": [
    "### 1. Create a frequency distribution characterising the age of the sample and summarise the measures of central tendency. Describe the results emerging from the analysis."
   ]
  },
  {
   "cell_type": "code",
   "execution_count": 18,
   "metadata": {},
   "outputs": [],
   "source": [
    "maxage = wcgs.age.max()\n",
    "minage = wcgs.age.min()\n",
    "rangeage= maxage - minage\n",
    "avgage= wcgs.age.mean()\n",
    "medianage= wcgs.age.median()\n",
    "modeage= wcgs.age.mode().tolist()\n",
    "sdage= wcgs.age.std()\n",
    "skewage= wcgs.age.skew()\n"
   ]
  },
  {
   "cell_type": "code",
   "execution_count": 19,
   "metadata": {},
   "outputs": [
    {
     "name": "stdout",
     "output_type": "stream",
     "text": [
      "max of age  59.0\n",
      "min of age  39.0\n",
      "range of age  20.0\n",
      "average of age  46.28\n",
      "median of age  45.0\n",
      "mode of age  [40.0]\n",
      "standard deviation of age  5.524\n",
      "skewness of age  0.527\n"
     ]
    }
   ],
   "source": [
    "print('max of age ',maxage)\n",
    "print('min of age ',minage)\n",
    "print('range of age ',rangeage)\n",
    "print('average of age ', round(avgage, 2))\n",
    "print('median of age ',medianage)\n",
    "print('mode of age ',modeage)\n",
    "print('standard deviation of age ',round(sdage, 3))\n",
    "print('skewness of age ',round(skewage, 3))"
   ]
  },
  {
   "cell_type": "code",
   "execution_count": 20,
   "metadata": {},
   "outputs": [
    {
     "name": "stdout",
     "output_type": "stream",
     "text": [
      "       Frequency  Percentage\n",
      "37-39        543       17.22\n",
      "40-42        670       21.24\n",
      "43-45        591       18.74\n",
      "46-48        445       14.11\n",
      "49-51        371       11.76\n",
      "52-54        292        9.26\n",
      "55-57        195        6.18\n",
      "58-60         47        1.49\n"
     ]
    }
   ],
   "source": [
    "bins = [37, 40, 43, 46, 49, 52, 55, 58, 61]\n",
    "labels = ['37-39','40-42','43-45','46-48','49-51','52-54','55-57','58-60']\n",
    "df = pd.DataFrame()\n",
    "df['Age Interval'] = pd.cut(wcgs['age'], bins=bins, labels=labels, include_lowest=True)\n",
    "freq_table = pd.value_counts(df['Age Interval']).sort_index()\n",
    "\n",
    "# Calculate the percentage of individuals in each age interval\n",
    "percentage = freq_table / freq_table.sum() * 100\n",
    "\n",
    "print(pd.concat([freq_table, round(percentage,2)], axis=1, keys=['Frequency', 'Percentage']))"
   ]
  },
  {
   "cell_type": "code",
   "execution_count": 21,
   "metadata": {},
   "outputs": [],
   "source": [
    "def create_bins(lower_bound, width, quantity):\n",
    "    bins = []\n",
    "    for low in range(lower_bound, \n",
    "                     lower_bound + quantity*width + 1, width):\n",
    "        bins.append((low, low+width))\n",
    "    return bins"
   ]
  },
  {
   "cell_type": "code",
   "execution_count": 22,
   "metadata": {},
   "outputs": [
    {
     "data": {
      "text/plain": [
       "[(37, 40),\n",
       " (40, 43),\n",
       " (43, 46),\n",
       " (46, 49),\n",
       " (49, 52),\n",
       " (52, 55),\n",
       " (55, 58),\n",
       " (58, 61)]"
      ]
     },
     "execution_count": 22,
     "metadata": {},
     "output_type": "execute_result"
    }
   ],
   "source": [
    "bins1 = create_bins(lower_bound=37,\n",
    "                   width=3,\n",
    "                   quantity=7)\n",
    "\n",
    "bins1"
   ]
  },
  {
   "cell_type": "code",
   "execution_count": 23,
   "metadata": {},
   "outputs": [],
   "source": [
    "bins2 = pd.IntervalIndex.from_tuples(bins1)"
   ]
  },
  {
   "cell_type": "code",
   "execution_count": 24,
   "metadata": {},
   "outputs": [
    {
     "name": "stdout",
     "output_type": "stream",
     "text": [
      "0       (49, 52]\n",
      "1       (49, 52]\n",
      "2       (58, 61]\n",
      "3       (49, 52]\n",
      "4       (43, 46]\n",
      "          ...   \n",
      "3149    (46, 49]\n",
      "3150    (40, 43]\n",
      "3151    (52, 55]\n",
      "3152    (52, 55]\n",
      "3153    (46, 49]\n",
      "Name: age, Length: 3154, dtype: category\n",
      "Categories (8, interval[int64, right]): [(37, 40] < (40, 43] < (43, 46] < (46, 49] < (49, 52] < (52, 55] < (55, 58] < (58, 61]]\n"
     ]
    }
   ],
   "source": [
    "categorical_age = pd.cut(wcgs.age, bins2)\n",
    "print(categorical_age)"
   ]
  },
  {
   "cell_type": "code",
   "execution_count": 25,
   "metadata": {},
   "outputs": [
    {
     "data": {
      "text/plain": [
       "<AxesSubplot:xlabel='age', ylabel='count'>"
      ]
     },
     "execution_count": 25,
     "metadata": {},
     "output_type": "execute_result"
    },
    {
     "data": {
      "image/png": "[encoded data removed]",
      "text/plain": [
       "<Figure size 432x288 with 1 Axes>"
      ]
     },
     "metadata": {
      "needs_background": "light"
     },
     "output_type": "display_data"
    }
   ],
   "source": [
    "sns.countplot(x=categorical_age)"
   ]
  },
  {
   "cell_type": "markdown",
   "metadata": {},
   "source": [
    "OBSERVATIONS:\n",
    "\n",
    "This output shows the frequency distribution table and measures of central tendency for the age variable. We can see that the sample is skewed towards younger ages, with the highest frequency in the 40-43 age interval. The mean and median age are close to each other i.e. 46 and 45, indicating that the distribution is right skewed. "
   ]
  },
  {
   "cell_type": "code",
   "execution_count": null,
   "metadata": {},
   "outputs": [],
   "source": []
  },
  {
   "cell_type": "markdown",
   "metadata": {},
   "source": [
    "### 2. Does the variable Systolic Blood Pressure (sbp) represent the characteristics of a normally distributed variable? If yes, please justify how do you arrive at this conclusion and if No, how it can be transformed to a normally distributed variable."
   ]
  },
  {
   "cell_type": "code",
   "execution_count": 26,
   "metadata": {},
   "outputs": [
    {
     "name": "stdout",
     "output_type": "stream",
     "text": [
      "128.63\n"
     ]
    }
   ],
   "source": [
    "print(round(wcgs.sbp.mean(),2))"
   ]
  },
  {
   "cell_type": "code",
   "execution_count": 27,
   "metadata": {},
   "outputs": [
    {
     "name": "stderr",
     "output_type": "stream",
     "text": [
      "/opt/conda/lib/python3.9/site-packages/seaborn/distributions.py:2619: FutureWarning: `distplot` is a deprecated function and will be removed in a future version. Please adapt your code to use either `displot` (a figure-level function with similar flexibility) or `histplot` (an axes-level function for histograms).\n",
      "  warnings.warn(msg, FutureWarning)\n"
     ]
    },
    {
     "data": {
      "text/plain": [
       "<AxesSubplot:xlabel='sbp', ylabel='Density'>"
      ]
     },
     "execution_count": 27,
     "metadata": {},
     "output_type": "execute_result"
    },
    {
     "data": {
      "image/png": "[encoded data removed]",
      "text/plain": [
       "<Figure size 432x288 with 1 Axes>"
      ]
     },
     "metadata": {
      "needs_background": "light"
     },
     "output_type": "display_data"
    }
   ],
   "source": [
    "sns.distplot(wcgs.sbp)\n",
    "#sns.displot(data=wcgs, x=\"sbp\")"
   ]
  },
  {
   "cell_type": "code",
   "execution_count": 28,
   "metadata": {},
   "outputs": [
    {
     "data": {
      "image/png": "[encoded data removed]",
      "text/plain": [
       "<Figure size 864x288 with 2 Axes>"
      ]
     },
     "metadata": {
      "needs_background": "light"
     },
     "output_type": "display_data"
    }
   ],
   "source": [
    "from scipy.stats import probplot\n",
    "\n",
    "# Plot histogram and normal probability plot\n",
    "fig, axes = plt.subplots(nrows=1, ncols=2, figsize=(12, 4))\n",
    "sbp = wcgs.sbp\n",
    "axes[0].hist(sbp, bins=30)\n",
    "axes[0].set_xlabel('Systolic Blood Pressure')\n",
    "axes[0].set_ylabel('Frequency')\n",
    "\n",
    "probplot(sbp, plot=axes[1])\n",
    "plt.show()"
   ]
  },
  {
   "cell_type": "markdown",
   "metadata": {},
   "source": [
    "OBSERVATIONS: \n",
    "\n",
    "I can see that the sbp variable is not normally distributed. The bell-shaped curve is shifted left and it is right skewed. \n",
    "The normal probability plot also shows that the sbp points on this plot clearly don’t fall along the red line, so I would not assume that this sbp dataset is normally distributed."
   ]
  },
  {
   "cell_type": "markdown",
   "metadata": {},
   "source": [
    "I can use the Shapiro-Wilk test, which tests the null hypothesis that the data is normally distributed if p value is more than 0.05 (95% confidence interval)"
   ]
  },
  {
   "cell_type": "code",
   "execution_count": 29,
   "metadata": {},
   "outputs": [
    {
     "name": "stdout",
     "output_type": "stream",
     "text": [
      "Test statistic = 0.932\n",
      "p-value =  1.1776258670374108e-35\n"
     ]
    }
   ],
   "source": [
    "from scipy.stats import shapiro\n",
    "\n",
    "stat, p = shapiro(sbp)\n",
    "print('Test statistic =', round(stat, 3))\n",
    "print('p-value = ', p)"
   ]
  },
  {
   "cell_type": "markdown",
   "metadata": {},
   "source": [
    "As p-value is very very small so I can reject the null hypothesis and say that the data is NOT normally distributed.\n",
    "\n",
    "To make it normally distributed I can take natural logarithm of sbp and consider that."
   ]
  },
  {
   "cell_type": "code",
   "execution_count": 30,
   "metadata": {},
   "outputs": [
    {
     "data": {
      "image/png": "[encoded data removed]",
      "text/plain": [
       "<Figure size 864x288 with 2 Axes>"
      ]
     },
     "metadata": {
      "needs_background": "light"
     },
     "output_type": "display_data"
    }
   ],
   "source": [
    "# Transform sbp variable using natural logarithm\n",
    "sbp_log = np.log(wcgs.sbp)\n",
    "\n",
    "# Plot histogram and normal probability plot of transformed variable\n",
    "fig, axes = plt.subplots(nrows=1, ncols=2, figsize=(12, 4))\n",
    "axes[0].hist(sbp_log, bins=30)\n",
    "axes[0].set_xlabel('Log-transformed Systolic Blood Pressure')\n",
    "axes[0].set_ylabel('Frequency')\n",
    "probplot(sbp_log, plot=axes[1])\n",
    "plt.show()"
   ]
  },
  {
   "cell_type": "code",
   "execution_count": 31,
   "metadata": {},
   "outputs": [
    {
     "name": "stdout",
     "output_type": "stream",
     "text": [
      "Test statistic = 0.968\n",
      "p-value =  7.941036254933041e-26\n"
     ]
    }
   ],
   "source": [
    "stat, p = shapiro(sbp_log)\n",
    "print('Test statistic =', round(stat, 3))\n",
    "print('p-value = ', p)"
   ]
  },
  {
   "cell_type": "markdown",
   "metadata": {},
   "source": [
    "Though the shapiro-wilk test gives p value very small than 0.05 but From the histogram, I can see that the log-transformed sbp variable is approximately normally distributed, with a bell-shaped curve and not apparent skewness. The normal probability plot also shows that the log-transformed sbp variable follows a roughly straight line, indicating that it is consistent with a normal distribution."
   ]
  },
  {
   "cell_type": "code",
   "execution_count": null,
   "metadata": {},
   "outputs": [],
   "source": []
  },
  {
   "cell_type": "markdown",
   "metadata": {},
   "source": [
    "### 3. It is assumed that Systolic Blood Pressure (sbp) varies positively with the Body Mass Index (bmi). Examine this hypothesis and create a graph to display the relationship."
   ]
  },
  {
   "cell_type": "markdown",
   "metadata": {},
   "source": [
    "To examine the hypothesis that Systolic Blood Pressure (sbp) varies positively with the Body Mass Index (bmi), I can calculate the correlation coefficient between the two variables. \n",
    "\n",
    "Then create a scatter plot of sbp vs. bmi"
   ]
  },
  {
   "cell_type": "code",
   "execution_count": 32,
   "metadata": {},
   "outputs": [
    {
     "name": "stdout",
     "output_type": "stream",
     "text": [
      "Correlation coefficient between SBP and BMI: 0.288\n"
     ]
    }
   ],
   "source": [
    "cor_sbp_bmi = wcgs.corr()['sbp']['bmi']\n",
    "print('Correlation coefficient between SBP and BMI:', round(cor_sbp_bmi, 3))"
   ]
  },
  {
   "cell_type": "code",
   "execution_count": 33,
   "metadata": {},
   "outputs": [],
   "source": [
    "wcgs['highSBP'] = np.where(wcgs['sbp']>150, 1, 0)"
   ]
  },
  {
   "cell_type": "code",
   "execution_count": 34,
   "metadata": {},
   "outputs": [
    {
     "data": {
      "text/plain": [
       "<AxesSubplot:xlabel='sbp', ylabel='bmi'>"
      ]
     },
     "execution_count": 34,
     "metadata": {},
     "output_type": "execute_result"
    },
    {
     "data": {
      "image/png": "[encoded data removed]",
      "text/plain": [
       "<Figure size 432x288 with 1 Axes>"
      ]
     },
     "metadata": {
      "needs_background": "light"
     },
     "output_type": "display_data"
    }
   ],
   "source": [
    "sns.scatterplot(data=wcgs, x='sbp', y='bmi', hue='highSBP')"
   ]
  },
  {
   "cell_type": "code",
   "execution_count": 35,
   "metadata": {},
   "outputs": [
    {
     "data": {
      "image/png": "[encoded data removed]",
      "text/plain": [
       "<Figure size 432x288 with 1 Axes>"
      ]
     },
     "metadata": {
      "needs_background": "light"
     },
     "output_type": "display_data"
    }
   ],
   "source": [
    "sns.scatterplot(data=wcgs, x='bmi', y='sbp')\n",
    "plt.xlabel('Body Mass Index (bmi)')\n",
    "plt.ylabel('Systolic Blood Pressure (sbp)')\n",
    "plt.title('Scatter plot of BMI vs SBP')\n",
    "plt.show()"
   ]
  },
  {
   "cell_type": "markdown",
   "metadata": {},
   "source": [
    "The scatter plot shows a positive correlation between bmi and sbp, with higher values of bmi generally associated with higher values of sbp. The correlation coefficient of 0.288 indicates a good positive correlation between sbp and bmi."
   ]
  },
  {
   "cell_type": "code",
   "execution_count": 36,
   "metadata": {},
   "outputs": [
    {
     "data": {
      "image/png": "[encoded data removed]",
      "text/plain": [
       "<Figure size 432x288 with 1 Axes>"
      ]
     },
     "metadata": {
      "needs_background": "light"
     },
     "output_type": "display_data"
    }
   ],
   "source": [
    "sns.regplot(data=wcgs, x='bmi', y='sbp')\n",
    "plt.xlabel('Body Mass Index (bmi)')\n",
    "plt.ylabel('Systolic Blood Pressure (sbp)')\n",
    "plt.title('Regression plot of BMI vs SBP')\n",
    "plt.show()"
   ]
  },
  {
   "cell_type": "markdown",
   "metadata": {},
   "source": [
    "The regression line shows the overall trend of the positive relationship between bmi and sbp, with higher values of bmi associated with higher values of sbp. This supports the hypothesis that sbp varies positively with bmi or vice-versa."
   ]
  },
  {
   "cell_type": "code",
   "execution_count": null,
   "metadata": {},
   "outputs": [],
   "source": []
  },
  {
   "cell_type": "markdown",
   "metadata": {},
   "source": [
    "### 4. Draw box-plots for the variables Systolic Blood Pressure (sbp) and Diastolic Blood Pressure (dbp). From these graphs what do you conclude about the following: (i) Location and Spread, (ii) Interquartile Range, and (iii) Range of Observations and outliers."
   ]
  },
  {
   "cell_type": "code",
   "execution_count": 37,
   "metadata": {},
   "outputs": [
    {
     "data": {
      "image/png": "[encoded data removed]",
      "text/plain": [
       "<Figure size 1152x288 with 1 Axes>"
      ]
     },
     "metadata": {
      "needs_background": "light"
     },
     "output_type": "display_data"
    }
   ],
   "source": [
    "plt.figure(figsize=[16,4])\n",
    "sns.boxplot(\n",
    "    data=wcgs, x=\"sbp\",    notch=True, showcaps=False,    flierprops={\"marker\": \"x\"},\n",
    "    boxprops={\"facecolor\": (.4, .6, .8, .5)},    medianprops={\"color\": \"coral\"})\n",
    "plt.show()"
   ]
  },
  {
   "cell_type": "markdown",
   "metadata": {},
   "source": [
    "* From the boxplot I can observe that the median (middle line in the box) of sbp is around 126\n",
    "* The spread (width of the box) of sbp is slightly larger 95 to 160 (0 to 100 percentile)\n",
    "* The interquartile range (height of the box) for sbp is bigger, indicating that the middle 50% of values for sbp are more spread out from 120-136.\n",
    "* The range (distance from the lowest to the highest value) for sbp is much larger 95 to 230, indicating that sbp has a wider range of values.\n",
    "* There are several outliers in the sbp box-plot, indicated by the crosses beyond the whiskers. The outliers in the sbp box-plot suggest that there are some individuals with extremely high values of sbp in this sample.\n"
   ]
  },
  {
   "cell_type": "code",
   "execution_count": 38,
   "metadata": {},
   "outputs": [
    {
     "data": {
      "image/png": "[encoded data removed]",
      "text/plain": [
       "<Figure size 1152x288 with 1 Axes>"
      ]
     },
     "metadata": {
      "needs_background": "light"
     },
     "output_type": "display_data"
    }
   ],
   "source": [
    "plt.figure(figsize=[16,4])\n",
    "sns.boxplot(\n",
    "    data=wcgs, x=\"dbp\",    notch=True, showcaps=False,    flierprops={\"marker\": \"x\"},\n",
    "    boxprops={\"facecolor\": (.4, .6, .8, .5)},    medianprops={\"color\": \"coral\"})\n",
    "plt.show()"
   ]
  },
  {
   "cell_type": "markdown",
   "metadata": {},
   "source": [
    "* From the boxplot I can observe that the median (middle line in the box) of dbp is around 80\n",
    "* The spread (width of the box) of dbp is slightly smaller i.e. 62-100 (0 to 100 percentile)\n",
    "* The interquartile range (height of the box) for dbp is lesser, indicating that the middle 50% of values for dbp are less spread out from 75-86.\n",
    "* The range (distance from the lowest to the highest value) for dbp is less 59 to 150, indicating that dbp has a narrower range of values.\n",
    "* There are several outliers in the dbp box-plot, indicated by the crosses beyond the whiskers. The outliers in the dbp box-plot suggest that there are one to two individuals with extremely less values of dbp in this sample."
   ]
  },
  {
   "cell_type": "code",
   "execution_count": 39,
   "metadata": {},
   "outputs": [
    {
     "data": {
      "image/png": "[encoded data removed]",
      "text/plain": [
       "<Figure size 1152x288 with 1 Axes>"
      ]
     },
     "metadata": {
      "needs_background": "light"
     },
     "output_type": "display_data"
    }
   ],
   "source": [
    "plt.figure(figsize=[16,4])\n",
    "sns.boxplot(data=wcgs[['sbp', 'dbp']], orient=\"h\")\n",
    "plt.xlabel('Blood Pressure Value')\n",
    "plt.title('Box-Plots for SBP and DBP')\n",
    "plt.show()"
   ]
  },
  {
   "cell_type": "markdown",
   "metadata": {},
   "source": [
    "* The spread of sbp is slightly larger than that of dbp, indicating that sbp has more variability in values than dbp.\n",
    "* The interquartile range for sbp is larger than that for dbp, indicating that the middle 50% of values for sbp are more spread out than those for dbp.\n",
    "* The range of observation for sbp is much larger than that for dbp, indicating that sbp has a wider range of values than dbp."
   ]
  },
  {
   "cell_type": "markdown",
   "metadata": {},
   "source": [
    "### 5. The data consists of a categorical variable Current Smoking (smoke) that is coded in two categories (Yes and No). Create a box-plots for Total Cholesterol (chol), Diastolic Blood Pressure (dbp) and Systolic Blood Pressure (sbp) by the categorical variable. Explain the results that emerge from the analysis."
   ]
  },
  {
   "cell_type": "code",
   "execution_count": 40,
   "metadata": {},
   "outputs": [
    {
     "data": {
      "text/html": [
       "<div>\n",
       "<style scoped>\n",
       "    .dataframe tbody tr th:only-of-type {\n",
       "        vertical-align: middle;\n",
       "    }\n",
       "\n",
       "    .dataframe tbody tr th {\n",
       "        vertical-align: top;\n",
       "    }\n",
       "\n",
       "    .dataframe thead th {\n",
       "        text-align: right;\n",
       "    }\n",
       "</style>\n",
       "<table border=\"1\" class=\"dataframe\">\n",
       "  <thead>\n",
       "    <tr style=\"text-align: right;\">\n",
       "      <th></th>\n",
       "      <th>age</th>\n",
       "      <th>bmi</th>\n",
       "      <th>chol</th>\n",
       "      <th>dbp</th>\n",
       "      <th>height</th>\n",
       "      <th>ncigs</th>\n",
       "      <th>sbp</th>\n",
       "      <th>smoke</th>\n",
       "      <th>weight</th>\n",
       "      <th>highSBP</th>\n",
       "    </tr>\n",
       "  </thead>\n",
       "  <tbody>\n",
       "    <tr>\n",
       "      <th>1520</th>\n",
       "      <td>44.0</td>\n",
       "      <td>23.053627</td>\n",
       "      <td>231.0</td>\n",
       "      <td>68.0</td>\n",
       "      <td>72.0</td>\n",
       "      <td>0.0</td>\n",
       "      <td>126.0</td>\n",
       "      <td>No</td>\n",
       "      <td>170.0</td>\n",
       "      <td>0</td>\n",
       "    </tr>\n",
       "    <tr>\n",
       "      <th>984</th>\n",
       "      <td>39.0</td>\n",
       "      <td>29.156057</td>\n",
       "      <td>233.0</td>\n",
       "      <td>82.0</td>\n",
       "      <td>72.0</td>\n",
       "      <td>0.0</td>\n",
       "      <td>122.0</td>\n",
       "      <td>No</td>\n",
       "      <td>215.0</td>\n",
       "      <td>0</td>\n",
       "    </tr>\n",
       "    <tr>\n",
       "      <th>659</th>\n",
       "      <td>55.0</td>\n",
       "      <td>27.213884</td>\n",
       "      <td>182.0</td>\n",
       "      <td>76.0</td>\n",
       "      <td>68.0</td>\n",
       "      <td>40.0</td>\n",
       "      <td>138.0</td>\n",
       "      <td>Yes</td>\n",
       "      <td>179.0</td>\n",
       "      <td>0</td>\n",
       "    </tr>\n",
       "  </tbody>\n",
       "</table>\n",
       "</div>"
      ],
      "text/plain": [
       "       age        bmi   chol   dbp  height  ncigs    sbp smoke  weight  \\\n",
       "1520  44.0  23.053627  231.0  68.0    72.0    0.0  126.0    No   170.0   \n",
       "984   39.0  29.156057  233.0  82.0    72.0    0.0  122.0    No   215.0   \n",
       "659   55.0  27.213884  182.0  76.0    68.0   40.0  138.0   Yes   179.0   \n",
       "\n",
       "      highSBP  \n",
       "1520        0  \n",
       "984         0  \n",
       "659         0  "
      ]
     },
     "execution_count": 40,
     "metadata": {},
     "output_type": "execute_result"
    }
   ],
   "source": [
    "wcgs.sample(3)"
   ]
  },
  {
   "cell_type": "code",
   "execution_count": 41,
   "metadata": {},
   "outputs": [
    {
     "data": {
      "image/png": "[encoded data removed]",
      "text/plain": [
       "<Figure size 1152x288 with 1 Axes>"
      ]
     },
     "metadata": {
      "needs_background": "light"
     },
     "output_type": "display_data"
    }
   ],
   "source": [
    "plt.figure(figsize=[16,4])\n",
    "sns.boxplot(data=wcgs, x='chol', y='smoke')\n",
    "plt.xlabel('Total Cholesterol')\n",
    "plt.ylabel('Smoking Status')\n",
    "plt.title('Box-Plots for Cholesterol vs Smoking')\n",
    "plt.show()"
   ]
  },
  {
   "cell_type": "markdown",
   "metadata": {},
   "source": [
    "* The median value of Cholesterol is higher in Smokers than in Non-smokers.\n",
    "* The interquartile range for Cholesterol is almost same in Smokers and Non-smokers.\n",
    "* There are some outliers in the Cholesterol box-plot for both smoking categories. There are some individuals with extremely high or low cholesterol levels in both groups. Number of outliers are more in Smoker group"
   ]
  },
  {
   "cell_type": "code",
   "execution_count": 42,
   "metadata": {},
   "outputs": [
    {
     "data": {
      "image/png": "[encoded data removed]",
      "text/plain": [
       "<Figure size 1152x288 with 1 Axes>"
      ]
     },
     "metadata": {
      "needs_background": "light"
     },
     "output_type": "display_data"
    }
   ],
   "source": [
    "plt.figure(figsize=[16,4])\n",
    "sns.boxplot(data=wcgs, x='dbp', y='smoke')\n",
    "plt.xlabel('Diastolic Blood Pressure (dbp)')\n",
    "plt.ylabel('Smoking Status')\n",
    "plt.title('Box-Plots for Diastolic Blood Pressure vs Smoking')\n",
    "plt.show()"
   ]
  },
  {
   "cell_type": "markdown",
   "metadata": {},
   "source": [
    "* The median values of dbp are almost same in Smokers and Non-smokers.\n",
    "* The interquartile range for dbp is surprisingly wider in Non-smokers than Smokers.\n",
    "* There are some outliers in the dbp box-plot for both smoking category and both are having high dbp."
   ]
  },
  {
   "cell_type": "code",
   "execution_count": 43,
   "metadata": {},
   "outputs": [
    {
     "data": {
      "image/png": "[encoded data removed]",
      "text/plain": [
       "<Figure size 1152x288 with 1 Axes>"
      ]
     },
     "metadata": {
      "needs_background": "light"
     },
     "output_type": "display_data"
    }
   ],
   "source": [
    "plt.figure(figsize=[16,4])\n",
    "sns.boxplot(data=wcgs, x='sbp', y='smoke')\n",
    "plt.xlabel('Systolic Blood Pressure (sbp)')\n",
    "plt.ylabel('Smoking Status')\n",
    "plt.title('Box-Plots for Systolic Blood Pressure vs Smoking')\n",
    "plt.show()"
   ]
  },
  {
   "cell_type": "markdown",
   "metadata": {},
   "source": [
    "* The median value of sbp is almost same in Smokers and Non-smokers.\n",
    "* The interquartile range for sbp is same in Smokers and Non-smokers.\n",
    "* There are some outliers in the sbp box-plot for both smoking categories, indicating that there are some individuals with extremely high systolic blood pressure levels in both groups. But there are no outliers with extremely less sbp."
   ]
  },
  {
   "cell_type": "code",
   "execution_count": null,
   "metadata": {},
   "outputs": [],
   "source": []
  },
  {
   "cell_type": "markdown",
   "metadata": {},
   "source": [
    "### 6. It is hypothesised that smoking has a positive and linear impact on both Diastolic Blood Pressure (dbp) and Systolic Blood Pressure (sbp). How will you test this hypothesis? What do the results emerging from the test suggest about the nature of the relationship in the wcgs dataset? Hint: Thinks about the variable ncigs in the dataset that depicts the number of cigarettes smoked per day."
   ]
  },
  {
   "cell_type": "code",
   "execution_count": 44,
   "metadata": {},
   "outputs": [
    {
     "data": {
      "text/plain": [
       "(3154, 10)"
      ]
     },
     "execution_count": 44,
     "metadata": {},
     "output_type": "execute_result"
    }
   ],
   "source": [
    "wcgs.shape"
   ]
  },
  {
   "cell_type": "code",
   "execution_count": 45,
   "metadata": {},
   "outputs": [
    {
     "data": {
      "image/png": "[encoded data removed]",
      "text/plain": [
       "<Figure size 1152x288 with 1 Axes>"
      ]
     },
     "metadata": {
      "needs_background": "light"
     },
     "output_type": "display_data"
    }
   ],
   "source": [
    "plt.figure(figsize=[16,4])\n",
    "sns.boxplot(data=wcgs, x='ncigs')\n",
    "plt.xlabel('Number of ciggerates')\n",
    "plt.title('Box-Plots for Number of ciggerates')\n",
    "plt.show()"
   ]
  },
  {
   "cell_type": "code",
   "execution_count": 46,
   "metadata": {},
   "outputs": [],
   "source": [
    "wcgs_filtered = wcgs[wcgs['ncigs'] <= 50]"
   ]
  },
  {
   "cell_type": "code",
   "execution_count": 47,
   "metadata": {},
   "outputs": [
    {
     "data": {
      "text/plain": [
       "(3136, 10)"
      ]
     },
     "execution_count": 47,
     "metadata": {},
     "output_type": "execute_result"
    }
   ],
   "source": [
    "wcgs_filtered.shape"
   ]
  },
  {
   "cell_type": "code",
   "execution_count": 48,
   "metadata": {},
   "outputs": [
    {
     "data": {
      "image/png": "[encoded data removed]",
      "text/plain": [
       "<Figure size 432x288 with 1 Axes>"
      ]
     },
     "metadata": {
      "needs_background": "light"
     },
     "output_type": "display_data"
    }
   ],
   "source": [
    "sns.scatterplot(data=wcgs_filtered, x='ncigs', y='sbp')\n",
    "plt.xlabel('Number of ciggerates (ncigs)')\n",
    "plt.ylabel('Systolic Blood Pressure (sbp)')\n",
    "plt.title('Scatter plot of Number of ciggerates vs SBP')\n",
    "plt.show()"
   ]
  },
  {
   "cell_type": "code",
   "execution_count": 49,
   "metadata": {},
   "outputs": [
    {
     "data": {
      "text/html": [
       "<div>\n",
       "<style scoped>\n",
       "    .dataframe tbody tr th:only-of-type {\n",
       "        vertical-align: middle;\n",
       "    }\n",
       "\n",
       "    .dataframe tbody tr th {\n",
       "        vertical-align: top;\n",
       "    }\n",
       "\n",
       "    .dataframe thead th {\n",
       "        text-align: right;\n",
       "    }\n",
       "</style>\n",
       "<table border=\"1\" class=\"dataframe\">\n",
       "  <thead>\n",
       "    <tr style=\"text-align: right;\">\n",
       "      <th></th>\n",
       "      <th>age</th>\n",
       "      <th>bmi</th>\n",
       "      <th>chol</th>\n",
       "      <th>dbp</th>\n",
       "      <th>height</th>\n",
       "      <th>ncigs</th>\n",
       "      <th>sbp</th>\n",
       "      <th>smoke</th>\n",
       "      <th>weight</th>\n",
       "      <th>highSBP</th>\n",
       "    </tr>\n",
       "  </thead>\n",
       "  <tbody>\n",
       "    <tr>\n",
       "      <th>0</th>\n",
       "      <td>50.0</td>\n",
       "      <td>31.321007</td>\n",
       "      <td>249.0</td>\n",
       "      <td>90.0</td>\n",
       "      <td>67.0</td>\n",
       "      <td>25.0</td>\n",
       "      <td>132.0</td>\n",
       "      <td>Yes</td>\n",
       "      <td>200.0</td>\n",
       "      <td>0</td>\n",
       "    </tr>\n",
       "    <tr>\n",
       "      <th>1</th>\n",
       "      <td>51.0</td>\n",
       "      <td>25.328579</td>\n",
       "      <td>194.0</td>\n",
       "      <td>74.0</td>\n",
       "      <td>73.0</td>\n",
       "      <td>25.0</td>\n",
       "      <td>120.0</td>\n",
       "      <td>Yes</td>\n",
       "      <td>192.0</td>\n",
       "      <td>0</td>\n",
       "    </tr>\n",
       "    <tr>\n",
       "      <th>2</th>\n",
       "      <td>59.0</td>\n",
       "      <td>28.693878</td>\n",
       "      <td>258.0</td>\n",
       "      <td>94.0</td>\n",
       "      <td>70.0</td>\n",
       "      <td>0.0</td>\n",
       "      <td>158.0</td>\n",
       "      <td>No</td>\n",
       "      <td>200.0</td>\n",
       "      <td>1</td>\n",
       "    </tr>\n",
       "    <tr>\n",
       "      <th>3</th>\n",
       "      <td>51.0</td>\n",
       "      <td>22.148708</td>\n",
       "      <td>173.0</td>\n",
       "      <td>80.0</td>\n",
       "      <td>69.0</td>\n",
       "      <td>0.0</td>\n",
       "      <td>126.0</td>\n",
       "      <td>No</td>\n",
       "      <td>150.0</td>\n",
       "      <td>0</td>\n",
       "    </tr>\n",
       "    <tr>\n",
       "      <th>4</th>\n",
       "      <td>44.0</td>\n",
       "      <td>22.313034</td>\n",
       "      <td>214.0</td>\n",
       "      <td>80.0</td>\n",
       "      <td>71.0</td>\n",
       "      <td>0.0</td>\n",
       "      <td>126.0</td>\n",
       "      <td>No</td>\n",
       "      <td>160.0</td>\n",
       "      <td>0</td>\n",
       "    </tr>\n",
       "  </tbody>\n",
       "</table>\n",
       "</div>"
      ],
      "text/plain": [
       "    age        bmi   chol   dbp  height  ncigs    sbp smoke  weight  highSBP\n",
       "0  50.0  31.321007  249.0  90.0    67.0   25.0  132.0   Yes   200.0        0\n",
       "1  51.0  25.328579  194.0  74.0    73.0   25.0  120.0   Yes   192.0        0\n",
       "2  59.0  28.693878  258.0  94.0    70.0    0.0  158.0    No   200.0        1\n",
       "3  51.0  22.148708  173.0  80.0    69.0    0.0  126.0    No   150.0        0\n",
       "4  44.0  22.313034  214.0  80.0    71.0    0.0  126.0    No   160.0        0"
      ]
     },
     "execution_count": 49,
     "metadata": {},
     "output_type": "execute_result"
    }
   ],
   "source": [
    "wcgs_filtered.head(5)"
   ]
  },
  {
   "cell_type": "code",
   "execution_count": 50,
   "metadata": {},
   "outputs": [],
   "source": [
    "wcgs_filtered = pd.get_dummies(wcgs_filtered, columns=['smoke'], drop_first=True)"
   ]
  },
  {
   "cell_type": "code",
   "execution_count": 51,
   "metadata": {},
   "outputs": [
    {
     "data": {
      "text/html": [
       "<div>\n",
       "<style scoped>\n",
       "    .dataframe tbody tr th:only-of-type {\n",
       "        vertical-align: middle;\n",
       "    }\n",
       "\n",
       "    .dataframe tbody tr th {\n",
       "        vertical-align: top;\n",
       "    }\n",
       "\n",
       "    .dataframe thead th {\n",
       "        text-align: right;\n",
       "    }\n",
       "</style>\n",
       "<table border=\"1\" class=\"dataframe\">\n",
       "  <thead>\n",
       "    <tr style=\"text-align: right;\">\n",
       "      <th></th>\n",
       "      <th>age</th>\n",
       "      <th>bmi</th>\n",
       "      <th>chol</th>\n",
       "      <th>dbp</th>\n",
       "      <th>height</th>\n",
       "      <th>ncigs</th>\n",
       "      <th>sbp</th>\n",
       "      <th>weight</th>\n",
       "      <th>highSBP</th>\n",
       "      <th>smoke_Yes</th>\n",
       "    </tr>\n",
       "  </thead>\n",
       "  <tbody>\n",
       "    <tr>\n",
       "      <th>0</th>\n",
       "      <td>50.0</td>\n",
       "      <td>31.321007</td>\n",
       "      <td>249.0</td>\n",
       "      <td>90.0</td>\n",
       "      <td>67.0</td>\n",
       "      <td>25.0</td>\n",
       "      <td>132.0</td>\n",
       "      <td>200.0</td>\n",
       "      <td>0</td>\n",
       "      <td>1</td>\n",
       "    </tr>\n",
       "    <tr>\n",
       "      <th>1</th>\n",
       "      <td>51.0</td>\n",
       "      <td>25.328579</td>\n",
       "      <td>194.0</td>\n",
       "      <td>74.0</td>\n",
       "      <td>73.0</td>\n",
       "      <td>25.0</td>\n",
       "      <td>120.0</td>\n",
       "      <td>192.0</td>\n",
       "      <td>0</td>\n",
       "      <td>1</td>\n",
       "    </tr>\n",
       "    <tr>\n",
       "      <th>2</th>\n",
       "      <td>59.0</td>\n",
       "      <td>28.693878</td>\n",
       "      <td>258.0</td>\n",
       "      <td>94.0</td>\n",
       "      <td>70.0</td>\n",
       "      <td>0.0</td>\n",
       "      <td>158.0</td>\n",
       "      <td>200.0</td>\n",
       "      <td>1</td>\n",
       "      <td>0</td>\n",
       "    </tr>\n",
       "    <tr>\n",
       "      <th>3</th>\n",
       "      <td>51.0</td>\n",
       "      <td>22.148708</td>\n",
       "      <td>173.0</td>\n",
       "      <td>80.0</td>\n",
       "      <td>69.0</td>\n",
       "      <td>0.0</td>\n",
       "      <td>126.0</td>\n",
       "      <td>150.0</td>\n",
       "      <td>0</td>\n",
       "      <td>0</td>\n",
       "    </tr>\n",
       "    <tr>\n",
       "      <th>4</th>\n",
       "      <td>44.0</td>\n",
       "      <td>22.313034</td>\n",
       "      <td>214.0</td>\n",
       "      <td>80.0</td>\n",
       "      <td>71.0</td>\n",
       "      <td>0.0</td>\n",
       "      <td>126.0</td>\n",
       "      <td>160.0</td>\n",
       "      <td>0</td>\n",
       "      <td>0</td>\n",
       "    </tr>\n",
       "  </tbody>\n",
       "</table>\n",
       "</div>"
      ],
      "text/plain": [
       "    age        bmi   chol   dbp  height  ncigs    sbp  weight  highSBP  \\\n",
       "0  50.0  31.321007  249.0  90.0    67.0   25.0  132.0   200.0        0   \n",
       "1  51.0  25.328579  194.0  74.0    73.0   25.0  120.0   192.0        0   \n",
       "2  59.0  28.693878  258.0  94.0    70.0    0.0  158.0   200.0        1   \n",
       "3  51.0  22.148708  173.0  80.0    69.0    0.0  126.0   150.0        0   \n",
       "4  44.0  22.313034  214.0  80.0    71.0    0.0  126.0   160.0        0   \n",
       "\n",
       "   smoke_Yes  \n",
       "0          1  \n",
       "1          1  \n",
       "2          0  \n",
       "3          0  \n",
       "4          0  "
      ]
     },
     "execution_count": 51,
     "metadata": {},
     "output_type": "execute_result"
    }
   ],
   "source": [
    "wcgs_filtered.head(5)"
   ]
  },
  {
   "cell_type": "code",
   "execution_count": 52,
   "metadata": {},
   "outputs": [],
   "source": [
    "X = wcgs_filtered[['ncigs','smoke_Yes']]\n",
    "yd = wcgs_filtered.dbp\n",
    "ys = wcgs_filtered.sbp"
   ]
  },
  {
   "cell_type": "code",
   "execution_count": 53,
   "metadata": {},
   "outputs": [
    {
     "data": {
      "text/html": [
       "<table class=\"simpletable\">\n",
       "<caption>OLS Regression Results</caption>\n",
       "<tr>\n",
       "  <th>Dep. Variable:</th>           <td>dbp</td>       <th>  R-squared:         </th> <td>   0.007</td> \n",
       "</tr>\n",
       "<tr>\n",
       "  <th>Model:</th>                   <td>OLS</td>       <th>  Adj. R-squared:    </th> <td>   0.007</td> \n",
       "</tr>\n",
       "<tr>\n",
       "  <th>Method:</th>             <td>Least Squares</td>  <th>  F-statistic:       </th> <td>   11.60</td> \n",
       "</tr>\n",
       "<tr>\n",
       "  <th>Date:</th>             <td>Fri, 10 Mar 2023</td> <th>  Prob (F-statistic):</th> <td>9.54e-06</td> \n",
       "</tr>\n",
       "<tr>\n",
       "  <th>Time:</th>                 <td>19:26:33</td>     <th>  Log-Likelihood:    </th> <td> -11566.</td> \n",
       "</tr>\n",
       "<tr>\n",
       "  <th>No. Observations:</th>      <td>  3136</td>      <th>  AIC:               </th> <td>2.314e+04</td>\n",
       "</tr>\n",
       "<tr>\n",
       "  <th>Df Residuals:</th>          <td>  3133</td>      <th>  BIC:               </th> <td>2.316e+04</td>\n",
       "</tr>\n",
       "<tr>\n",
       "  <th>Df Model:</th>              <td>     2</td>      <th>                     </th>     <td> </td>    \n",
       "</tr>\n",
       "<tr>\n",
       "  <th>Covariance Type:</th>      <td>nonrobust</td>    <th>                     </th>     <td> </td>    \n",
       "</tr>\n",
       "</table>\n",
       "<table class=\"simpletable\">\n",
       "<tr>\n",
       "      <td></td>         <th>coef</th>     <th>std err</th>      <th>t</th>      <th>P>|t|</th>  <th>[0.025</th>    <th>0.975]</th>  \n",
       "</tr>\n",
       "<tr>\n",
       "  <th>const</th>     <td>   82.7851</td> <td>    0.238</td> <td>  347.787</td> <td> 0.000</td> <td>   82.318</td> <td>   83.252</td>\n",
       "</tr>\n",
       "<tr>\n",
       "  <th>ncigs</th>     <td>    0.0220</td> <td>    0.024</td> <td>    0.930</td> <td> 0.352</td> <td>   -0.024</td> <td>    0.068</td>\n",
       "</tr>\n",
       "<tr>\n",
       "  <th>smoke_Yes</th> <td>   -2.1600</td> <td>    0.662</td> <td>   -3.265</td> <td> 0.001</td> <td>   -3.457</td> <td>   -0.863</td>\n",
       "</tr>\n",
       "</table>\n",
       "<table class=\"simpletable\">\n",
       "<tr>\n",
       "  <th>Omnibus:</th>       <td>486.972</td> <th>  Durbin-Watson:     </th> <td>   1.961</td> \n",
       "</tr>\n",
       "<tr>\n",
       "  <th>Prob(Omnibus):</th> <td> 0.000</td>  <th>  Jarque-Bera (JB):  </th> <td>1085.966</td> \n",
       "</tr>\n",
       "<tr>\n",
       "  <th>Skew:</th>          <td> 0.901</td>  <th>  Prob(JB):          </th> <td>1.53e-236</td>\n",
       "</tr>\n",
       "<tr>\n",
       "  <th>Kurtosis:</th>      <td> 5.251</td>  <th>  Cond. No.          </th> <td>    69.6</td> \n",
       "</tr>\n",
       "</table><br/><br/>Notes:<br/>[1] Standard Errors assume that the covariance matrix of the errors is correctly specified."
      ],
      "text/plain": [
       "<class 'statsmodels.iolib.summary.Summary'>\n",
       "\"\"\"\n",
       "                            OLS Regression Results                            \n",
       "==============================================================================\n",
       "Dep. Variable:                    dbp   R-squared:                       0.007\n",
       "Model:                            OLS   Adj. R-squared:                  0.007\n",
       "Method:                 Least Squares   F-statistic:                     11.60\n",
       "Date:                Fri, 10 Mar 2023   Prob (F-statistic):           9.54e-06\n",
       "Time:                        19:26:33   Log-Likelihood:                -11566.\n",
       "No. Observations:                3136   AIC:                         2.314e+04\n",
       "Df Residuals:                    3133   BIC:                         2.316e+04\n",
       "Df Model:                           2                                         \n",
       "Covariance Type:            nonrobust                                         \n",
       "==============================================================================\n",
       "                 coef    std err          t      P>|t|      [0.025      0.975]\n",
       "------------------------------------------------------------------------------\n",
       "const         82.7851      0.238    347.787      0.000      82.318      83.252\n",
       "ncigs          0.0220      0.024      0.930      0.352      -0.024       0.068\n",
       "smoke_Yes     -2.1600      0.662     -3.265      0.001      -3.457      -0.863\n",
       "==============================================================================\n",
       "Omnibus:                      486.972   Durbin-Watson:                   1.961\n",
       "Prob(Omnibus):                  0.000   Jarque-Bera (JB):             1085.966\n",
       "Skew:                           0.901   Prob(JB):                    1.53e-236\n",
       "Kurtosis:                       5.251   Cond. No.                         69.6\n",
       "==============================================================================\n",
       "\n",
       "Notes:\n",
       "[1] Standard Errors assume that the covariance matrix of the errors is correctly specified.\n",
       "\"\"\""
      ]
     },
     "execution_count": 53,
     "metadata": {},
     "output_type": "execute_result"
    }
   ],
   "source": [
    "import statsmodels.api as sm\n",
    "\n",
    "X= sm.add_constant(X)\n",
    "est_d= sm.OLS(yd, X).fit()\n",
    "est_d.summary()"
   ]
  },
  {
   "cell_type": "code",
   "execution_count": 54,
   "metadata": {},
   "outputs": [
    {
     "data": {
      "text/html": [
       "<table class=\"simpletable\">\n",
       "<caption>OLS Regression Results</caption>\n",
       "<tr>\n",
       "  <th>Dep. Variable:</th>           <td>sbp</td>       <th>  R-squared:         </th> <td>   0.003</td> \n",
       "</tr>\n",
       "<tr>\n",
       "  <th>Model:</th>                   <td>OLS</td>       <th>  Adj. R-squared:    </th> <td>   0.002</td> \n",
       "</tr>\n",
       "<tr>\n",
       "  <th>Method:</th>             <td>Least Squares</td>  <th>  F-statistic:       </th> <td>   4.565</td> \n",
       "</tr>\n",
       "<tr>\n",
       "  <th>Date:</th>             <td>Fri, 10 Mar 2023</td> <th>  Prob (F-statistic):</th>  <td>0.0105</td>  \n",
       "</tr>\n",
       "<tr>\n",
       "  <th>Time:</th>                 <td>19:26:33</td>     <th>  Log-Likelihood:    </th> <td> -12963.</td> \n",
       "</tr>\n",
       "<tr>\n",
       "  <th>No. Observations:</th>      <td>  3136</td>      <th>  AIC:               </th> <td>2.593e+04</td>\n",
       "</tr>\n",
       "<tr>\n",
       "  <th>Df Residuals:</th>          <td>  3133</td>      <th>  BIC:               </th> <td>2.595e+04</td>\n",
       "</tr>\n",
       "<tr>\n",
       "  <th>Df Model:</th>              <td>     2</td>      <th>                     </th>     <td> </td>    \n",
       "</tr>\n",
       "<tr>\n",
       "  <th>Covariance Type:</th>      <td>nonrobust</td>    <th>                     </th>     <td> </td>    \n",
       "</tr>\n",
       "</table>\n",
       "<table class=\"simpletable\">\n",
       "<tr>\n",
       "      <td></td>         <th>coef</th>     <th>std err</th>      <th>t</th>      <th>P>|t|</th>  <th>[0.025</th>    <th>0.975]</th>  \n",
       "</tr>\n",
       "<tr>\n",
       "  <th>const</th>     <td>  128.5950</td> <td>    0.372</td> <td>  346.020</td> <td> 0.000</td> <td>  127.866</td> <td>  129.324</td>\n",
       "</tr>\n",
       "<tr>\n",
       "  <th>ncigs</th>     <td>    0.1113</td> <td>    0.037</td> <td>    3.020</td> <td> 0.003</td> <td>    0.039</td> <td>    0.184</td>\n",
       "</tr>\n",
       "<tr>\n",
       "  <th>smoke_Yes</th> <td>   -2.5995</td> <td>    1.033</td> <td>   -2.516</td> <td> 0.012</td> <td>   -4.625</td> <td>   -0.574</td>\n",
       "</tr>\n",
       "</table>\n",
       "<table class=\"simpletable\">\n",
       "<tr>\n",
       "  <th>Omnibus:</th>       <td>700.697</td> <th>  Durbin-Watson:     </th> <td>   1.954</td>\n",
       "</tr>\n",
       "<tr>\n",
       "  <th>Prob(Omnibus):</th> <td> 0.000</td>  <th>  Jarque-Bera (JB):  </th> <td>1779.026</td>\n",
       "</tr>\n",
       "<tr>\n",
       "  <th>Skew:</th>          <td> 1.206</td>  <th>  Prob(JB):          </th> <td>    0.00</td>\n",
       "</tr>\n",
       "<tr>\n",
       "  <th>Kurtosis:</th>      <td> 5.793</td>  <th>  Cond. No.          </th> <td>    69.6</td>\n",
       "</tr>\n",
       "</table><br/><br/>Notes:<br/>[1] Standard Errors assume that the covariance matrix of the errors is correctly specified."
      ],
      "text/plain": [
       "<class 'statsmodels.iolib.summary.Summary'>\n",
       "\"\"\"\n",
       "                            OLS Regression Results                            \n",
       "==============================================================================\n",
       "Dep. Variable:                    sbp   R-squared:                       0.003\n",
       "Model:                            OLS   Adj. R-squared:                  0.002\n",
       "Method:                 Least Squares   F-statistic:                     4.565\n",
       "Date:                Fri, 10 Mar 2023   Prob (F-statistic):             0.0105\n",
       "Time:                        19:26:33   Log-Likelihood:                -12963.\n",
       "No. Observations:                3136   AIC:                         2.593e+04\n",
       "Df Residuals:                    3133   BIC:                         2.595e+04\n",
       "Df Model:                           2                                         \n",
       "Covariance Type:            nonrobust                                         \n",
       "==============================================================================\n",
       "                 coef    std err          t      P>|t|      [0.025      0.975]\n",
       "------------------------------------------------------------------------------\n",
       "const        128.5950      0.372    346.020      0.000     127.866     129.324\n",
       "ncigs          0.1113      0.037      3.020      0.003       0.039       0.184\n",
       "smoke_Yes     -2.5995      1.033     -2.516      0.012      -4.625      -0.574\n",
       "==============================================================================\n",
       "Omnibus:                      700.697   Durbin-Watson:                   1.954\n",
       "Prob(Omnibus):                  0.000   Jarque-Bera (JB):             1779.026\n",
       "Skew:                           1.206   Prob(JB):                         0.00\n",
       "Kurtosis:                       5.793   Cond. No.                         69.6\n",
       "==============================================================================\n",
       "\n",
       "Notes:\n",
       "[1] Standard Errors assume that the covariance matrix of the errors is correctly specified.\n",
       "\"\"\""
      ]
     },
     "execution_count": 54,
     "metadata": {},
     "output_type": "execute_result"
    }
   ],
   "source": [
    "est_s= sm.OLS(ys, X).fit()\n",
    "est_s.summary()"
   ]
  },
  {
   "cell_type": "markdown",
   "metadata": {},
   "source": [
    "OBSERVATIONS:\n",
    "\n",
    "To test the hypothesis we can examine the variable ncigs and smoke in the dataset that depicts the number of cigarettes smoked per day and smoking status as the potential confounding variables. If ncigs and smoke is positively associated with both dbp and sbp then it could be potential confounder in the relationship between smoking and blood pressures.\n",
    "\n",
    "The results of the regression analysis will indicate whether smoking status (smoke) and number of cigarettes smoked per day (ncigs) are significantly associated with diastolic blood pressure (dbp) and systolic blood pressure (sbp). The regression analysis will allow to determine whether the relationships between smoking status and blood pressure are linearly related or not."
   ]
  },
  {
   "cell_type": "code",
   "execution_count": null,
   "metadata": {},
   "outputs": [],
   "source": []
  },
  {
   "cell_type": "markdown",
   "metadata": {},
   "source": [
    "OBSERVATIONS:\n",
    "\n",
    "The smoke variable is categorical, so I have changed that to numerical to solve the multi linear regression prediction problem. smoke_Yes is 1 when person is smoker and is 0 when person is non-smoker. The coefficients for smoke_Yes and ncigs are both positive and statistically significant in both regression models i.e. 0.7% and 0.3%, then I can conclude that there is a positive and linear relationship between smoking and blood pressure.\n",
    "\n",
    "It's important to note that correlation does not imply causation, and there may be other variables that are associated with both smoking and blood pressure that are not accounted for in this analysis. \n",
    "\n",
    "Additionally, the nature of the relationship between smoking and blood pressure may be complex and non-linear, and may vary depending on other factors such as age, gender, height, weight, BMI and overall health status."
   ]
  },
  {
   "cell_type": "code",
   "execution_count": 55,
   "metadata": {},
   "outputs": [],
   "source": [
    "wcgs_filtered['sbp_ln'] = np.log(wcgs_filtered['sbp'])\n",
    "wcgs_filtered['dbp_ln'] = np.log(wcgs_filtered['dbp'])"
   ]
  },
  {
   "cell_type": "code",
   "execution_count": 57,
   "metadata": {},
   "outputs": [],
   "source": [
    "yd_new = wcgs_filtered['dbp_ln']\n",
    "ys_new = wcgs_filtered['sbp_ln']"
   ]
  },
  {
   "cell_type": "code",
   "execution_count": 58,
   "metadata": {
    "scrolled": true
   },
   "outputs": [
    {
     "data": {
      "text/html": [
       "<table class=\"simpletable\">\n",
       "<caption>OLS Regression Results</caption>\n",
       "<tr>\n",
       "  <th>Dep. Variable:</th>         <td>dbp_ln</td>      <th>  R-squared:         </th> <td>   0.007</td>\n",
       "</tr>\n",
       "<tr>\n",
       "  <th>Model:</th>                   <td>OLS</td>       <th>  Adj. R-squared:    </th> <td>   0.006</td>\n",
       "</tr>\n",
       "<tr>\n",
       "  <th>Method:</th>             <td>Least Squares</td>  <th>  F-statistic:       </th> <td>   11.17</td>\n",
       "</tr>\n",
       "<tr>\n",
       "  <th>Date:</th>             <td>Fri, 10 Mar 2023</td> <th>  Prob (F-statistic):</th> <td>1.46e-05</td>\n",
       "</tr>\n",
       "<tr>\n",
       "  <th>Time:</th>                 <td>19:26:33</td>     <th>  Log-Likelihood:    </th> <td>  2347.6</td>\n",
       "</tr>\n",
       "<tr>\n",
       "  <th>No. Observations:</th>      <td>  3136</td>      <th>  AIC:               </th> <td>  -4689.</td>\n",
       "</tr>\n",
       "<tr>\n",
       "  <th>Df Residuals:</th>          <td>  3133</td>      <th>  BIC:               </th> <td>  -4671.</td>\n",
       "</tr>\n",
       "<tr>\n",
       "  <th>Df Model:</th>              <td>     2</td>      <th>                     </th>     <td> </td>   \n",
       "</tr>\n",
       "<tr>\n",
       "  <th>Covariance Type:</th>      <td>nonrobust</td>    <th>                     </th>     <td> </td>   \n",
       "</tr>\n",
       "</table>\n",
       "<table class=\"simpletable\">\n",
       "<tr>\n",
       "      <td></td>         <th>coef</th>     <th>std err</th>      <th>t</th>      <th>P>|t|</th>  <th>[0.025</th>    <th>0.975]</th>  \n",
       "</tr>\n",
       "<tr>\n",
       "  <th>const</th>     <td>    4.4091</td> <td>    0.003</td> <td> 1564.913</td> <td> 0.000</td> <td>    4.404</td> <td>    4.415</td>\n",
       "</tr>\n",
       "<tr>\n",
       "  <th>ncigs</th>     <td>    0.0003</td> <td>    0.000</td> <td>    1.032</td> <td> 0.302</td> <td>   -0.000</td> <td>    0.001</td>\n",
       "</tr>\n",
       "<tr>\n",
       "  <th>smoke_Yes</th> <td>   -0.0258</td> <td>    0.008</td> <td>   -3.292</td> <td> 0.001</td> <td>   -0.041</td> <td>   -0.010</td>\n",
       "</tr>\n",
       "</table>\n",
       "<table class=\"simpletable\">\n",
       "<tr>\n",
       "  <th>Omnibus:</th>       <td>126.718</td> <th>  Durbin-Watson:     </th> <td>   1.965</td>\n",
       "</tr>\n",
       "<tr>\n",
       "  <th>Prob(Omnibus):</th> <td> 0.000</td>  <th>  Jarque-Bera (JB):  </th> <td> 179.690</td>\n",
       "</tr>\n",
       "<tr>\n",
       "  <th>Skew:</th>          <td> 0.393</td>  <th>  Prob(JB):          </th> <td>9.57e-40</td>\n",
       "</tr>\n",
       "<tr>\n",
       "  <th>Kurtosis:</th>      <td> 3.871</td>  <th>  Cond. No.          </th> <td>    69.6</td>\n",
       "</tr>\n",
       "</table><br/><br/>Notes:<br/>[1] Standard Errors assume that the covariance matrix of the errors is correctly specified."
      ],
      "text/plain": [
       "<class 'statsmodels.iolib.summary.Summary'>\n",
       "\"\"\"\n",
       "                            OLS Regression Results                            \n",
       "==============================================================================\n",
       "Dep. Variable:                 dbp_ln   R-squared:                       0.007\n",
       "Model:                            OLS   Adj. R-squared:                  0.006\n",
       "Method:                 Least Squares   F-statistic:                     11.17\n",
       "Date:                Fri, 10 Mar 2023   Prob (F-statistic):           1.46e-05\n",
       "Time:                        19:26:33   Log-Likelihood:                 2347.6\n",
       "No. Observations:                3136   AIC:                            -4689.\n",
       "Df Residuals:                    3133   BIC:                            -4671.\n",
       "Df Model:                           2                                         \n",
       "Covariance Type:            nonrobust                                         \n",
       "==============================================================================\n",
       "                 coef    std err          t      P>|t|      [0.025      0.975]\n",
       "------------------------------------------------------------------------------\n",
       "const          4.4091      0.003   1564.913      0.000       4.404       4.415\n",
       "ncigs          0.0003      0.000      1.032      0.302      -0.000       0.001\n",
       "smoke_Yes     -0.0258      0.008     -3.292      0.001      -0.041      -0.010\n",
       "==============================================================================\n",
       "Omnibus:                      126.718   Durbin-Watson:                   1.965\n",
       "Prob(Omnibus):                  0.000   Jarque-Bera (JB):              179.690\n",
       "Skew:                           0.393   Prob(JB):                     9.57e-40\n",
       "Kurtosis:                       3.871   Cond. No.                         69.6\n",
       "==============================================================================\n",
       "\n",
       "Notes:\n",
       "[1] Standard Errors assume that the covariance matrix of the errors is correctly specified.\n",
       "\"\"\""
      ]
     },
     "execution_count": 58,
     "metadata": {},
     "output_type": "execute_result"
    }
   ],
   "source": [
    "X = sm.add_constant(X)\n",
    "est_dln = sm.OLS(yd_new, X).fit()\n",
    "est_dln.summary()"
   ]
  },
  {
   "cell_type": "markdown",
   "metadata": {},
   "source": [
    "OBSERVATIONS:\n",
    "\n",
    "* Coefficient of smoke_Yes -0.0258, which means that smokers has a very small negative effect on dbp. Coefficient of ncigs 0.0003, which means that no of cigarettes has a very small effect on dbp. \n",
    "* moderate P-value of ncigs (0.302), which means that cannot conclude a relationship between ncigs and dbp. low P-value of smoke_yes (0.001), which means I can conclude a strong relationship between smoke_yes and dbp.\n",
    "* R-Squared value of 0.7%, which means that the linear regression function line does not fit the data well."
   ]
  },
  {
   "cell_type": "code",
   "execution_count": 59,
   "metadata": {},
   "outputs": [
    {
     "data": {
      "text/html": [
       "<table class=\"simpletable\">\n",
       "<caption>OLS Regression Results</caption>\n",
       "<tr>\n",
       "  <th>Dep. Variable:</th>         <td>sbp_ln</td>      <th>  R-squared:         </th> <td>   0.003</td>\n",
       "</tr>\n",
       "<tr>\n",
       "  <th>Model:</th>                   <td>OLS</td>       <th>  Adj. R-squared:    </th> <td>   0.002</td>\n",
       "</tr>\n",
       "<tr>\n",
       "  <th>Method:</th>             <td>Least Squares</td>  <th>  F-statistic:       </th> <td>   4.840</td>\n",
       "</tr>\n",
       "<tr>\n",
       "  <th>Date:</th>             <td>Fri, 10 Mar 2023</td> <th>  Prob (F-statistic):</th>  <td>0.00797</td>\n",
       "</tr>\n",
       "<tr>\n",
       "  <th>Time:</th>                 <td>19:26:33</td>     <th>  Log-Likelihood:    </th> <td>  2416.4</td>\n",
       "</tr>\n",
       "<tr>\n",
       "  <th>No. Observations:</th>      <td>  3136</td>      <th>  AIC:               </th> <td>  -4827.</td>\n",
       "</tr>\n",
       "<tr>\n",
       "  <th>Df Residuals:</th>          <td>  3133</td>      <th>  BIC:               </th> <td>  -4809.</td>\n",
       "</tr>\n",
       "<tr>\n",
       "  <th>Df Model:</th>              <td>     2</td>      <th>                     </th>     <td> </td>   \n",
       "</tr>\n",
       "<tr>\n",
       "  <th>Covariance Type:</th>      <td>nonrobust</td>    <th>                     </th>     <td> </td>   \n",
       "</tr>\n",
       "</table>\n",
       "<table class=\"simpletable\">\n",
       "<tr>\n",
       "      <td></td>         <th>coef</th>     <th>std err</th>      <th>t</th>      <th>P>|t|</th>  <th>[0.025</th>    <th>0.975]</th>  \n",
       "</tr>\n",
       "<tr>\n",
       "  <th>const</th>     <td>    4.8499</td> <td>    0.003</td> <td> 1759.545</td> <td> 0.000</td> <td>    4.845</td> <td>    4.855</td>\n",
       "</tr>\n",
       "<tr>\n",
       "  <th>ncigs</th>     <td>    0.0008</td> <td>    0.000</td> <td>    3.100</td> <td> 0.002</td> <td>    0.000</td> <td>    0.001</td>\n",
       "</tr>\n",
       "<tr>\n",
       "  <th>smoke_Yes</th> <td>   -0.0192</td> <td>    0.008</td> <td>   -2.501</td> <td> 0.012</td> <td>   -0.034</td> <td>   -0.004</td>\n",
       "</tr>\n",
       "</table>\n",
       "<table class=\"simpletable\">\n",
       "<tr>\n",
       "  <th>Omnibus:</th>       <td>296.126</td> <th>  Durbin-Watson:     </th> <td>   1.955</td>\n",
       "</tr>\n",
       "<tr>\n",
       "  <th>Prob(Omnibus):</th> <td> 0.000</td>  <th>  Jarque-Bera (JB):  </th> <td> 420.781</td>\n",
       "</tr>\n",
       "<tr>\n",
       "  <th>Skew:</th>          <td> 0.742</td>  <th>  Prob(JB):          </th> <td>4.25e-92</td>\n",
       "</tr>\n",
       "<tr>\n",
       "  <th>Kurtosis:</th>      <td> 4.008</td>  <th>  Cond. No.          </th> <td>    69.6</td>\n",
       "</tr>\n",
       "</table><br/><br/>Notes:<br/>[1] Standard Errors assume that the covariance matrix of the errors is correctly specified."
      ],
      "text/plain": [
       "<class 'statsmodels.iolib.summary.Summary'>\n",
       "\"\"\"\n",
       "                            OLS Regression Results                            \n",
       "==============================================================================\n",
       "Dep. Variable:                 sbp_ln   R-squared:                       0.003\n",
       "Model:                            OLS   Adj. R-squared:                  0.002\n",
       "Method:                 Least Squares   F-statistic:                     4.840\n",
       "Date:                Fri, 10 Mar 2023   Prob (F-statistic):            0.00797\n",
       "Time:                        19:26:33   Log-Likelihood:                 2416.4\n",
       "No. Observations:                3136   AIC:                            -4827.\n",
       "Df Residuals:                    3133   BIC:                            -4809.\n",
       "Df Model:                           2                                         \n",
       "Covariance Type:            nonrobust                                         \n",
       "==============================================================================\n",
       "                 coef    std err          t      P>|t|      [0.025      0.975]\n",
       "------------------------------------------------------------------------------\n",
       "const          4.8499      0.003   1759.545      0.000       4.845       4.855\n",
       "ncigs          0.0008      0.000      3.100      0.002       0.000       0.001\n",
       "smoke_Yes     -0.0192      0.008     -2.501      0.012      -0.034      -0.004\n",
       "==============================================================================\n",
       "Omnibus:                      296.126   Durbin-Watson:                   1.955\n",
       "Prob(Omnibus):                  0.000   Jarque-Bera (JB):              420.781\n",
       "Skew:                           0.742   Prob(JB):                     4.25e-92\n",
       "Kurtosis:                       4.008   Cond. No.                         69.6\n",
       "==============================================================================\n",
       "\n",
       "Notes:\n",
       "[1] Standard Errors assume that the covariance matrix of the errors is correctly specified.\n",
       "\"\"\""
      ]
     },
     "execution_count": 59,
     "metadata": {},
     "output_type": "execute_result"
    }
   ],
   "source": [
    "est_sln= sm.OLS(ys_new, X).fit()\n",
    "est_sln.summary()"
   ]
  },
  {
   "cell_type": "markdown",
   "metadata": {},
   "source": [
    "OBSERVATIONS:\n",
    "\n",
    "* Coefficient of smoke_Yes -0.0192, which means that smokers has a very small negative effect on sbp. Coefficient of ncigs 0.0008, which means that no of cigarettes has a very small effect on sbp. \n",
    "* very low P-value of ncigs (0.002), which means that I can conclude a very strong relationship between ncigs and sbp. low P-value of smoke_yes (0.012), which means I can conclude a strong relationship between smoke_yes and sbp.\n",
    "* R-Squared value of 0.3 %, which means that the linear regression function line does not fit the data well."
   ]
  },
  {
   "cell_type": "code",
   "execution_count": null,
   "metadata": {},
   "outputs": [],
   "source": []
  }
 ],
 "metadata": {
  "kernelspec": {
   "display_name": "Python 3 (ipykernel)",
   "language": "python",
   "name": "python3"
  },
  "language_info": {
   "codemirror_mode": {
    "name": "ipython",
    "version": 3
   },
   "file_extension": ".py",
   "mimetype": "text/x-python",
   "name": "python",
   "nbconvert_exporter": "python",
   "pygments_lexer": "ipython3",
   "version": "3.9.7"
  }
 },
 "nbformat": 4,
 "nbformat_minor": 2
}
